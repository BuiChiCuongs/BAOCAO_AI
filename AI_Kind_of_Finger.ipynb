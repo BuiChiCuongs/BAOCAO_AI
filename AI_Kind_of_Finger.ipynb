{
  "nbformat": 4,
  "nbformat_minor": 0,
  "metadata": {
    "colab": {
      "provenance": [],
      "mount_file_id": "1hBwFJTKKmLj449x6taJthrh0RnHcZdu4",
      "authorship_tag": "ABX9TyPBFz8LBNETDfUqKSRnYtd4",
      "include_colab_link": true
    },
    "kernelspec": {
      "name": "python3",
      "display_name": "Python 3"
    },
    "language_info": {
      "name": "python"
    }
  },
  "cells": [
    {
      "cell_type": "markdown",
      "metadata": {
        "id": "view-in-github",
        "colab_type": "text"
      },
      "source": [
        "<a href=\"https://colab.research.google.com/github/BuiChiCuongs/BAOCAO_AI/blob/main/AI_Kind_of_Finger.ipynb\" target=\"_parent\"><img src=\"https://colab.research.google.com/assets/colab-badge.svg\" alt=\"Open In Colab\"/></a>"
      ]
    },
    {
      "cell_type": "code",
      "execution_count": 33,
      "metadata": {
        "id": "z8zXBOsnLoec"
      },
      "outputs": [],
      "source": [
        "# Import library\n",
        "import pandas as pd\n",
        "import numpy as np\n",
        "from os import listdir\n",
        "from numpy import asanyarray, save\n",
        "from keras.utils import load_img, img_to_array\n",
        "from numpy.core.multiarray import asarray\n",
        "from google.colab import drive\n",
        "from keras.utils import to_categorical\n",
        "from PIL import Image\n",
        "import matplotlib.pyplot as plt\n",
        "from sklearn.model_selection import train_test_split"
      ]
    },
    {
      "cell_type": "code",
      "source": [],
      "metadata": {
        "id": "COBk1H5LL0uI"
      },
      "execution_count": 34,
      "outputs": []
    },
    {
      "cell_type": "code",
      "source": [
        "folder = '/content/drive/MyDrive/Colab Notebooks/Fingerprint_/'\n",
        "photos, labels = list(), list()\n",
        "for file in listdir(folder):\n",
        "  output = 0.0\n",
        "  if file.startswith('Blacksmith'):\n",
        "    output = 1.0\n",
        "  if file.startswith('Teacher'):\n",
        "    output = 2.0\n",
        "  if file.startswith('Engineer'):\n",
        "    output = 3.0\n",
        "  if file.startswith('Worker'):\n",
        "    output = 4.0\n",
        "  if file.startswith('Doctor'):\n",
        "    output = 5.0\n",
        "  if file.startswith('Clerk'):\n",
        "    output = 6.0\n",
        "  if file.startswith('Farmer'):\n",
        "    output = 7.0\n",
        "  if file.startswith('Electrician'):\n",
        "    output = 8.0\n",
        "  if file.startswith('Cashier'):\n",
        "    output = 9.0\n",
        "  if file.startswith('Baker'):\n",
        "    output = 10.0\n",
        "  photo = load_img(folder+file, target_size = (50,50))\n",
        "  photo = img_to_array(photo)\n",
        "  photos.append(photo)\n",
        "  labels.append(output)\n"
      ],
      "metadata": {
        "id": "PEPHYalLL8Dj"
      },
      "execution_count": 35,
      "outputs": []
    },
    {
      "cell_type": "code",
      "source": [
        "# Convert list photos, labels to Numpy\n",
        "photos = asarray(photos)\n",
        "labels = asarray(labels)\n",
        "print(photos.shape, labels.shape)"
      ],
      "metadata": {
        "colab": {
          "base_uri": "https://localhost:8080/"
        },
        "id": "7RemdBOcT8yL",
        "outputId": "deaeff3a-d0c9-47de-e6a2-e3c4892129ab"
      },
      "execution_count": 36,
      "outputs": [
        {
          "output_type": "stream",
          "name": "stdout",
          "text": [
            "(1000, 50, 50, 3) (1000,)\n"
          ]
        }
      ]
    },
    {
      "cell_type": "code",
      "source": [
        "# Save data after preprocessing data\n",
        "save('/content/drive/MyDrive/Colab Notebooks/Model/Fingerprint_photos.npy', photos)\n",
        "save('/content/drive/MyDrive/Colab Notebooks/Model/Fingerprint_labels.npy', labels)"
      ],
      "metadata": {
        "id": "k0Gjcl4YUAmz"
      },
      "execution_count": 37,
      "outputs": []
    },
    {
      "cell_type": "code",
      "source": [
        "# Read data\n",
        "photos = np.load('/content/drive/MyDrive/Colab Notebooks/Model/Fingerprint_photos.npy')\n",
        "labels = np.load('/content/drive/MyDrive/Colab Notebooks/Model/Fingerprint_labels.npy')"
      ],
      "metadata": {
        "id": "rZAoRUo5UN46"
      },
      "execution_count": 38,
      "outputs": []
    },
    {
      "cell_type": "code",
      "source": [
        "X_train, X_test, y_train, y_test = train_test_split(photos, labels, test_size=0.2, random_state = 10)\n",
        "X = X_test\n",
        "X_train.shape\n",
        "y_train = to_categorical(y_train, num_classes=11)"
      ],
      "metadata": {
        "id": "yYEOLQIIoafY"
      },
      "execution_count": 48,
      "outputs": []
    },
    {
      "cell_type": "code",
      "source": [
        "y_train.shape"
      ],
      "metadata": {
        "colab": {
          "base_uri": "https://localhost:8080/"
        },
        "id": "GkvHYVaVo5BY",
        "outputId": "32db89e0-0df5-4e05-e3af-e99d2fa4096d"
      },
      "execution_count": 49,
      "outputs": [
        {
          "output_type": "execute_result",
          "data": {
            "text/plain": [
              "(800, 11)"
            ]
          },
          "metadata": {},
          "execution_count": 49
        }
      ]
    },
    {
      "cell_type": "code",
      "source": [
        "X_train = X_train.astype('float32')/255\n",
        "X_test = X_test.astype('float32')/255"
      ],
      "metadata": {
        "id": "ymjGrZIWooyB"
      },
      "execution_count": 47,
      "outputs": []
    },
    {
      "cell_type": "code",
      "source": [
        "from keras.models import Sequential, Model\n",
        "from keras.layers import Dense, Dropout, Flatten, Conv2D, MaxPooling2D, Normalization, LeakyReLU\n",
        "from keras.optimizers import Adam\n",
        "from keras.layers.serialization import activation\n",
        "from keras.losses import categorical_crossentropy"
      ],
      "metadata": {
        "id": "h5ZIc-FcUgb1"
      },
      "execution_count": 42,
      "outputs": []
    },
    {
      "cell_type": "code",
      "source": [
        "from keras.layers import LeakyReLU\n",
        "model = Sequential()\n",
        "model.add(Conv2D(32, (3, 3), strides=(1,1), padding = 'same', activation = 'linear', input_shape=(50, 50, 3)))\n",
        "model.add(LeakyReLU(alpha = 0.1))\n",
        "model.add(MaxPooling2D(pool_size=(2, 2)))\n",
        "\n",
        "model.add(Conv2D(64, (3, 3), strides=(1,1), padding = 'same', activation = 'linear'))\n",
        "model.add(LeakyReLU(alpha = 0.1))\n",
        "model.add(MaxPooling2D(pool_size=(2, 2)))\n",
        "\n",
        "model.add(Conv2D(128, (3, 3), strides=(1,1), padding = 'same', activation = 'linear'))\n",
        "model.add(LeakyReLU(alpha = 0.1))\n",
        "model.add(MaxPooling2D(pool_size=(2, 2)))\n",
        "\n",
        "\n",
        "model.add(Flatten())\n",
        "model.add(Dense(128, activation='linear'))\n",
        "model.add(LeakyReLU(alpha = 0.1))\n",
        "model.add(Dense(11, activation='softmax'))\n",
        "\n",
        "model.summary()\n",
        "model.compile(loss='categorical_crossentropy', optimizer=Adam(), metrics=['accuracy'])"
      ],
      "metadata": {
        "colab": {
          "base_uri": "https://localhost:8080/"
        },
        "id": "7GCBFFeBMH4r",
        "outputId": "83e3b8e0-214e-4e7a-c74d-d93d4fcf818f"
      },
      "execution_count": 43,
      "outputs": [
        {
          "output_type": "stream",
          "name": "stdout",
          "text": [
            "Model: \"sequential_2\"\n",
            "_________________________________________________________________\n",
            " Layer (type)                Output Shape              Param #   \n",
            "=================================================================\n",
            " conv2d_6 (Conv2D)           (None, 50, 50, 32)        896       \n",
            "                                                                 \n",
            " leaky_re_lu_8 (LeakyReLU)   (None, 50, 50, 32)        0         \n",
            "                                                                 \n",
            " max_pooling2d_6 (MaxPooling  (None, 25, 25, 32)       0         \n",
            " 2D)                                                             \n",
            "                                                                 \n",
            " conv2d_7 (Conv2D)           (None, 25, 25, 64)        18496     \n",
            "                                                                 \n",
            " leaky_re_lu_9 (LeakyReLU)   (None, 25, 25, 64)        0         \n",
            "                                                                 \n",
            " max_pooling2d_7 (MaxPooling  (None, 12, 12, 64)       0         \n",
            " 2D)                                                             \n",
            "                                                                 \n",
            " conv2d_8 (Conv2D)           (None, 12, 12, 128)       73856     \n",
            "                                                                 \n",
            " leaky_re_lu_10 (LeakyReLU)  (None, 12, 12, 128)       0         \n",
            "                                                                 \n",
            " max_pooling2d_8 (MaxPooling  (None, 6, 6, 128)        0         \n",
            " 2D)                                                             \n",
            "                                                                 \n",
            " flatten_2 (Flatten)         (None, 4608)              0         \n",
            "                                                                 \n",
            " dense_4 (Dense)             (None, 128)               589952    \n",
            "                                                                 \n",
            " leaky_re_lu_11 (LeakyReLU)  (None, 128)               0         \n",
            "                                                                 \n",
            " dense_5 (Dense)             (None, 11)                1419      \n",
            "                                                                 \n",
            "=================================================================\n",
            "Total params: 684,619\n",
            "Trainable params: 684,619\n",
            "Non-trainable params: 0\n",
            "_________________________________________________________________\n"
          ]
        }
      ]
    },
    {
      "cell_type": "code",
      "source": [
        "# Train model\n",
        "train = model.fit(X_train, y_train, batch_size = 60, epochs = 10, verbose = 1)"
      ],
      "metadata": {
        "colab": {
          "base_uri": "https://localhost:8080/"
        },
        "id": "6nP8C5NGU3Pn",
        "outputId": "1da9b23a-5352-4a3a-c9ac-6358a9a8c7c2"
      },
      "execution_count": 61,
      "outputs": [
        {
          "output_type": "stream",
          "name": "stdout",
          "text": [
            "Epoch 1/10\n",
            "14/14 [==============================] - 5s 351ms/step - loss: 1.5313 - accuracy: 0.4800\n",
            "Epoch 2/10\n",
            "14/14 [==============================] - 7s 495ms/step - loss: 1.3865 - accuracy: 0.5263\n",
            "Epoch 3/10\n",
            "14/14 [==============================] - 5s 342ms/step - loss: 1.2306 - accuracy: 0.6112\n",
            "Epoch 4/10\n",
            "14/14 [==============================] - 6s 469ms/step - loss: 1.0699 - accuracy: 0.6637\n",
            "Epoch 5/10\n",
            "14/14 [==============================] - 6s 383ms/step - loss: 0.9426 - accuracy: 0.6938\n",
            "Epoch 6/10\n",
            "14/14 [==============================] - 5s 345ms/step - loss: 0.7493 - accuracy: 0.7788\n",
            "Epoch 7/10\n",
            "14/14 [==============================] - 7s 519ms/step - loss: 0.6815 - accuracy: 0.7713\n",
            "Epoch 8/10\n",
            "14/14 [==============================] - 5s 344ms/step - loss: 0.6123 - accuracy: 0.8112\n",
            "Epoch 9/10\n",
            "14/14 [==============================] - 11s 786ms/step - loss: 0.4025 - accuracy: 0.9075\n",
            "Epoch 10/10\n",
            "14/14 [==============================] - 9s 637ms/step - loss: 0.2421 - accuracy: 0.9488\n"
          ]
        }
      ]
    },
    {
      "cell_type": "code",
      "source": [
        "# Mở ảnh\n",
        "img = Image.open('/content/Baker (77).jpg')\n",
        "# Resize ảnh về kích thước mong muốn\n",
        "IMG = img\n",
        "img = img.resize((50, 50))\n",
        "# Chuyển đổi ảnh sang numpy array và chuẩn hóa\n",
        "img = np.asarray(img)\n",
        "img = img.reshape(1,50,50,3)\n",
        "img = img.astype('float32') / 255.0\n",
        "plt.imshow(IMG)\n",
        "plt.show()\n",
        "class_names = [\"None\",\"Blacksmith\",\"Teacher\",\"Engineer\",\"Worker\",\"Doctor\", \n",
        "               \"Clerk\",\"Farmer\",\"Electrician\",\"Cashier\",\"Baker\",]\n",
        "matrix = np.argmax(model.predict(img), axis=-1)\n",
        "temp1 = matrix[0]\n",
        "print(\"You will become a: \", class_names[temp1])"
      ],
      "metadata": {
        "colab": {
          "base_uri": "https://localhost:8080/",
          "height": 469
        },
        "id": "R9VNLdexoJAc",
        "outputId": "13822b61-7bf5-4e6c-beaa-fe2f1221c9e2"
      },
      "execution_count": 60,
      "outputs": [
        {
          "output_type": "display_data",
          "data": {
            "text/plain": [
              "<Figure size 640x480 with 1 Axes>"
            ],
            "image/png": "[encoded data removed]"
          },
          "metadata": {}
        },
        {
          "output_type": "stream",
          "name": "stdout",
          "text": [
            "1/1 [==============================] - 0s 45ms/step\n",
            "You will become a:  Baker\n"
          ]
        }
      ]
    }
  ]
}