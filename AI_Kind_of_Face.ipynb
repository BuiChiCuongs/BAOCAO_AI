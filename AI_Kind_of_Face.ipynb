{
  "nbformat": 4,
  "nbformat_minor": 0,
  "metadata": {
    "colab": {
      "provenance": [],
      "mount_file_id": "14f7HXZ8nlGM8vkinxPd4BQgYL7mKGjjq",
      "authorship_tag": "ABX9TyOrXgIszYl+BfLW/sch0C8Z",
      "include_colab_link": true
    },
    "kernelspec": {
      "name": "python3",
      "display_name": "Python 3"
    },
    "language_info": {
      "name": "python"
    }
  },
  "cells": [
    {
      "cell_type": "markdown",
      "metadata": {
        "id": "view-in-github",
        "colab_type": "text"
      },
      "source": [
        "<a href=\"https://colab.research.google.com/github/BuiChiCuongs/BAOCAO_AI/blob/main/AI_Kind_of_Face.ipynb\" target=\"_parent\"><img src=\"https://colab.research.google.com/assets/colab-badge.svg\" alt=\"Open In Colab\"/></a>"
      ]
    },
    {
      "cell_type": "code",
      "execution_count": 1,
      "metadata": {
        "id": "IBQ7dgioQp12"
      },
      "outputs": [],
      "source": [
        "# Import library\n",
        "import pandas as pd\n",
        "import numpy as np\n",
        "from os import listdir\n",
        "from numpy import asanyarray, save\n",
        "from keras.utils import load_img, img_to_array\n",
        "from numpy.core.multiarray import asarray\n",
        "from google.colab import drive\n",
        "from keras.utils import to_categorical\n",
        "from PIL import Image\n",
        "import matplotlib.pyplot as plt\n",
        "from sklearn.model_selection import train_test_split"
      ]
    },
    {
      "cell_type": "code",
      "source": [
        "folder = '/content/drive/MyDrive/Colab Notebooks/Picture_Train/'\n",
        "photos, labels = list(), list()\n"
      ],
      "metadata": {
        "id": "lYhETP7in0aM"
      },
      "execution_count": 2,
      "outputs": []
    },
    {
      "cell_type": "code",
      "source": [
        "for file in listdir(folder):\n",
        "  output = 0.0\n",
        "  if file.startswith('Nha'):\n",
        "    output = 1.0\n",
        "  if file.startswith('Cuong'):\n",
        "    output = 2.0\n",
        "  if file.startswith('Phuc'):\n",
        "    output = 3.0\n",
        "  if file.startswith('Tan'):\n",
        "    output = 4.0\n",
        "  photo = load_img(folder+file, target_size = (30,40))\n",
        "  photo = img_to_array(photo)\n",
        "  photos.append(photo)\n",
        "  labels.append(output)"
      ],
      "metadata": {
        "id": "5-35jqid5nsg"
      },
      "execution_count": 3,
      "outputs": []
    },
    {
      "cell_type": "code",
      "source": [
        "photos = asarray(photos)\n",
        "labels = asarray(labels)\n",
        "print(photos.shape, labels.shape)"
      ],
      "metadata": {
        "colab": {
          "base_uri": "https://localhost:8080/"
        },
        "id": "eqpoLds25qFr",
        "outputId": "39756ae7-46b6-4c62-8b13-fba2622df44f"
      },
      "execution_count": 4,
      "outputs": [
        {
          "output_type": "stream",
          "name": "stdout",
          "text": [
            "(239, 30, 40, 3) (239,)\n"
          ]
        }
      ]
    },
    {
      "cell_type": "code",
      "source": [
        "save('/content/drive/MyDrive/Colab Notebooks/Model/Face_photos.npy', photos)\n",
        "save('/content/drive/MyDrive/Colab Notebooks/Model/Face_labels.npy', labels)"
      ],
      "metadata": {
        "id": "vy2eb4IH5xGw"
      },
      "execution_count": 5,
      "outputs": []
    },
    {
      "cell_type": "code",
      "source": [
        "# Read data\n",
        "photos = np.load('/content/drive/MyDrive/Colab Notebooks/Model/Face_photos.npy')\n",
        "labels = np.load('/content/drive/MyDrive/Colab Notebooks/Model/Face_labels.npy')"
      ],
      "metadata": {
        "id": "EvrukEuP59zQ"
      },
      "execution_count": 6,
      "outputs": []
    },
    {
      "cell_type": "code",
      "source": [
        "X_train, X_test, y_train, y_test = train_test_split(photos, labels, test_size=0.2, random_state = 10)\n",
        "X = X_test\n",
        "X_train.shape\n",
        "y_train = to_categorical(y_train, num_classes=5)"
      ],
      "metadata": {
        "id": "oCHtT66E6B69"
      },
      "execution_count": 7,
      "outputs": []
    },
    {
      "cell_type": "code",
      "source": [
        "from keras.models import Sequential, Model\n",
        "from keras.layers import Dense, Dropout, Flatten, Conv2D, MaxPooling2D, Normalization, LeakyReLU\n",
        "from keras.optimizers import Adam\n",
        "from keras.layers.serialization import activation\n",
        "from keras.losses import categorical_crossentropy"
      ],
      "metadata": {
        "id": "zgFCPUE76HxZ"
      },
      "execution_count": 8,
      "outputs": []
    },
    {
      "cell_type": "code",
      "source": [
        "from keras.layers import LeakyReLU\n",
        "model = Sequential()\n",
        "model.add(Conv2D(32, (3, 3), strides=(1,1), padding = 'same', activation = 'linear', input_shape=(30, 40, 3)))\n",
        "model.add(LeakyReLU(alpha = 0.1))\n",
        "model.add(MaxPooling2D(pool_size=(2, 2)))\n",
        "\n",
        "model.add(Conv2D(64, (3, 3), strides=(1,1), padding = 'same', activation = 'linear'))\n",
        "model.add(LeakyReLU(alpha = 0.1))\n",
        "model.add(MaxPooling2D(pool_size=(2, 2)))\n",
        "\n",
        "model.add(Conv2D(128, (3, 3), strides=(1,1), padding = 'same', activation = 'linear'))\n",
        "model.add(LeakyReLU(alpha = 0.1))\n",
        "model.add(MaxPooling2D(pool_size=(2, 2)))\n",
        "\n",
        "\n",
        "model.add(Flatten())\n",
        "model.add(Dense(128, activation='linear'))\n",
        "model.add(LeakyReLU(alpha = 0.1))\n",
        "model.add(Dense(5, activation='softmax'))\n",
        "\n",
        "model.summary()\n",
        "model.compile(loss='categorical_crossentropy', optimizer=Adam(), metrics=['accuracy'])"
      ],
      "metadata": {
        "colab": {
          "base_uri": "https://localhost:8080/"
        },
        "id": "ySxap5606OPS",
        "outputId": "61f87e78-f97c-4339-bdd1-6a61045fab30"
      },
      "execution_count": 9,
      "outputs": [
        {
          "output_type": "stream",
          "name": "stdout",
          "text": [
            "Model: \"sequential\"\n",
            "_________________________________________________________________\n",
            " Layer (type)                Output Shape              Param #   \n",
            "=================================================================\n",
            " conv2d (Conv2D)             (None, 30, 40, 32)        896       \n",
            "                                                                 \n",
            " leaky_re_lu (LeakyReLU)     (None, 30, 40, 32)        0         \n",
            "                                                                 \n",
            " max_pooling2d (MaxPooling2D  (None, 15, 20, 32)       0         \n",
            " )                                                               \n",
            "                                                                 \n",
            " conv2d_1 (Conv2D)           (None, 15, 20, 64)        18496     \n",
            "                                                                 \n",
            " leaky_re_lu_1 (LeakyReLU)   (None, 15, 20, 64)        0         \n",
            "                                                                 \n",
            " max_pooling2d_1 (MaxPooling  (None, 7, 10, 64)        0         \n",
            " 2D)                                                             \n",
            "                                                                 \n",
            " conv2d_2 (Conv2D)           (None, 7, 10, 128)        73856     \n",
            "                                                                 \n",
            " leaky_re_lu_2 (LeakyReLU)   (None, 7, 10, 128)        0         \n",
            "                                                                 \n",
            " max_pooling2d_2 (MaxPooling  (None, 3, 5, 128)        0         \n",
            " 2D)                                                             \n",
            "                                                                 \n",
            " flatten (Flatten)           (None, 1920)              0         \n",
            "                                                                 \n",
            " dense (Dense)               (None, 128)               245888    \n",
            "                                                                 \n",
            " leaky_re_lu_3 (LeakyReLU)   (None, 128)               0         \n",
            "                                                                 \n",
            " dense_1 (Dense)             (None, 5)                 645       \n",
            "                                                                 \n",
            "=================================================================\n",
            "Total params: 339,781\n",
            "Trainable params: 339,781\n",
            "Non-trainable params: 0\n",
            "_________________________________________________________________\n"
          ]
        }
      ]
    },
    {
      "cell_type": "code",
      "source": [
        "# Train model\n",
        "train = model.fit(X_train, y_train, batch_size = 25, epochs = 5, verbose = 1)"
      ],
      "metadata": {
        "colab": {
          "base_uri": "https://localhost:8080/"
        },
        "id": "mKozL7k46S9A",
        "outputId": "47cd473c-a202-4efc-b525-0de525a66834"
      },
      "execution_count": 10,
      "outputs": [
        {
          "output_type": "stream",
          "name": "stdout",
          "text": [
            "Epoch 1/5\n",
            "8/8 [==============================] - 2s 121ms/step - loss: 56.9599 - accuracy: 0.3351\n",
            "Epoch 2/5\n",
            "8/8 [==============================] - 1s 118ms/step - loss: 3.2053 - accuracy: 0.6702\n",
            "Epoch 3/5\n",
            "8/8 [==============================] - 1s 107ms/step - loss: 0.1727 - accuracy: 0.9110\n",
            "Epoch 4/5\n",
            "8/8 [==============================] - 1s 67ms/step - loss: 0.0305 - accuracy: 0.9843\n",
            "Epoch 5/5\n",
            "8/8 [==============================] - 1s 65ms/step - loss: 0.0092 - accuracy: 0.9948\n"
          ]
        }
      ]
    },
    {
      "cell_type": "code",
      "source": [
        "# Mở ảnh\n",
        "img = Image.open('Phuc1.JPG')\n",
        "\n",
        "# Resize ảnh về kích thước mong muốn\n",
        "IMG = img\n",
        "img = img.resize((30, 40))\n",
        "\n",
        "# Chuyển đổi ảnh sang numpy array và chuẩn hóa\n",
        "img = np.asarray(img)\n",
        "img = img.reshape(1,30,40,3)\n",
        "img = img.astype('float32') / 255.0\n",
        "\n",
        "plt.imshow(IMG)\n",
        "plt.show()\n",
        "\n",
        "matrix = np.argmax(model.predict(img), axis=-1)\n",
        "class_names = [\"None\",\"Nhã\",\"Cường\",\"Phúc\",\"Tấn\"]\n",
        "\n",
        "temp1 = matrix[0]\n",
        "print(\"Bạn: \", class_names[temp1])"
      ],
      "metadata": {
        "id": "zyUu60TlGfAt"
      },
      "execution_count": null,
      "outputs": []
    }
  ]
}